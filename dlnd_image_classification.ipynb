{
 "cells": [
  {
   "cell_type": "markdown",
   "metadata": {
    "collapsed": true
   },
   "source": [
    "# Image Classification\n",
    "In this project, you'll classify images from the [CIFAR-10 dataset](https://www.cs.toronto.edu/~kriz/cifar.html).  The dataset consists of airplanes, dogs, cats, and other objects. You'll preprocess the images, then train a convolutional neural network on all the samples. The images need to be normalized and the labels need to be one-hot encoded.  You'll get to apply what you learned and build a convolutional, max pooling, dropout, and fully connected layers.  At the end, you'll get to see your neural network's predictions on the sample images.\n",
    "## Get the Data\n",
    "Run the following cell to download the [CIFAR-10 dataset for python](https://www.cs.toronto.edu/~kriz/cifar-10-python.tar.gz)."
   ]
  },
  {
   "cell_type": "code",
   "execution_count": 45,
   "metadata": {},
   "outputs": [
    {
     "name": "stdout",
     "output_type": "stream",
     "text": [
      "All files found!\n"
     ]
    }
   ],
   "source": [
    "\"\"\"\n",
    "DON'T MODIFY ANYTHING IN THIS CELL THAT IS BELOW THIS LINE\n",
    "\"\"\"\n",
    "from urllib.request import urlretrieve\n",
    "from os.path import isfile, isdir\n",
    "from tqdm import tqdm\n",
    "import problem_unittests as tests\n",
    "import tarfile\n",
    "\n",
    "cifar10_dataset_folder_path = 'cifar-10-batches-py'\n",
    "\n",
    "# Use Floyd's cifar-10 dataset if present\n",
    "floyd_cifar10_location = '/input/cifar-10/python.tar.gz'\n",
    "if isfile(floyd_cifar10_location):\n",
    "    tar_gz_path = floyd_cifar10_location\n",
    "else:\n",
    "    tar_gz_path = 'cifar-10-python.tar.gz'\n",
    "\n",
    "class DLProgress(tqdm):\n",
    "    last_block = 0\n",
    "\n",
    "    def hook(self, block_num=1, block_size=1, total_size=None):\n",
    "        self.total = total_size\n",
    "        self.update((block_num - self.last_block) * block_size)\n",
    "        self.last_block = block_num\n",
    "\n",
    "if not isfile(tar_gz_path):\n",
    "    with DLProgress(unit='B', unit_scale=True, miniters=1, desc='CIFAR-10 Dataset') as pbar:\n",
    "        urlretrieve(\n",
    "            'https://www.cs.toronto.edu/~kriz/cifar-10-python.tar.gz',\n",
    "            tar_gz_path,\n",
    "            pbar.hook)\n",
    "\n",
    "if not isdir(cifar10_dataset_folder_path):\n",
    "    with tarfile.open(tar_gz_path) as tar:\n",
    "        tar.extractall()\n",
    "        tar.close()\n",
    "\n",
    "\n",
    "tests.test_folder_path(cifar10_dataset_folder_path)"
   ]
  },
  {
   "cell_type": "markdown",
   "metadata": {},
   "source": [
    "## Explore the Data\n",
    "The dataset is broken into batches to prevent your machine from running out of memory.  The CIFAR-10 dataset consists of 5 batches, named `data_batch_1`, `data_batch_2`, etc.. Each batch contains the labels and images that are one of the following:\n",
    "* airplane\n",
    "* automobile\n",
    "* bird\n",
    "* cat\n",
    "* deer\n",
    "* dog\n",
    "* frog\n",
    "* horse\n",
    "* ship\n",
    "* truck\n",
    "\n",
    "Understanding a dataset is part of making predictions on the data.  Play around with the code cell below by changing the `batch_id` and `sample_id`. The `batch_id` is the id for a batch (1-5). The `sample_id` is the id for a image and label pair in the batch.\n",
    "\n",
    "Ask yourself \"What are all possible labels?\", \"What is the range of values for the image data?\", \"Are the labels in order or random?\".  Answers to questions like these will help you preprocess the data and end up with better predictions."
   ]
  },
  {
   "cell_type": "code",
   "execution_count": 46,
   "metadata": {},
   "outputs": [
    {
     "name": "stdout",
     "output_type": "stream",
     "text": [
      "\n",
      "Stats of batch 2:\n",
      "Samples: 10000\n",
      "Label Counts: {0: 984, 1: 1007, 2: 1010, 3: 995, 4: 1010, 5: 988, 6: 1008, 7: 1026, 8: 987, 9: 985}\n",
      "First 20 Labels: [1, 6, 6, 8, 8, 3, 4, 6, 0, 6, 0, 3, 6, 6, 5, 4, 8, 3, 2, 6]\n",
      "\n",
      "Example of Image 8:\n",
      "Image - Min Value: 31 Max Value: 255\n",
      "Image - Shape: (32, 32, 3)\n",
      "Label - Label Id: 0 Name: airplane\n",
      "hello\n"
     ]
    },
    {
     "data": {
      "image/png": "[encoded data removed]",
      "text/plain": [
       "<matplotlib.figure.Figure at 0x237b585a3c8>"
      ]
     },
     "metadata": {
      "image/png": {
       "height": 250,
       "width": 253
      }
     },
     "output_type": "display_data"
    }
   ],
   "source": [
    "%matplotlib inline\n",
    "%config InlineBackend.figure_format = 'retina'\n",
    "\n",
    "import helper\n",
    "import numpy as np\n",
    "\n",
    "# Explore the dataset\n",
    "batch_id = 2\n",
    "sample_id = 8\n",
    "helper.display_stats(cifar10_dataset_folder_path, batch_id, sample_id)\n",
    "print (\"hello\")"
   ]
  },
  {
   "cell_type": "markdown",
   "metadata": {},
   "source": [
    "## Implement Preprocess Functions\n",
    "### Normalize\n",
    "In the cell below, implement the `normalize` function to take in image data, `x`, and return it as a normalized Numpy array. The values should be in the range of 0 to 1, inclusive.  The return object should be the same shape as `x`."
   ]
  },
  {
   "cell_type": "code",
   "execution_count": 47,
   "metadata": {},
   "outputs": [
    {
     "name": "stdout",
     "output_type": "stream",
     "text": [
      "Tests Passed\n"
     ]
    }
   ],
   "source": [
    "def normalize(x):\n",
    "    \"\"\"\n",
    "    Normalize a list of sample image data in the range of 0 to 1\n",
    "    : x: List of image data.  The image shape is (32, 32, 3)\n",
    "    : return: Numpy array of normalize data\n",
    "    \"\"\"\n",
    "    # TODO: Implement Function\n",
    "    a = 0.1\n",
    "    b = 0.9\n",
    "    xmax = 255\n",
    "    xmin = 0\n",
    "    x_prime = a + (x-xmin)*(b-a)/(xmax - xmin)\n",
    "    return x_prime\n",
    "\n",
    "\n",
    "\"\"\"\n",
    "DON'T MODIFY ANYTHING IN THIS CELL THAT IS BELOW THIS LINE\n",
    "\"\"\"\n",
    "tests.test_normalize(normalize)"
   ]
  },
  {
   "cell_type": "markdown",
   "metadata": {},
   "source": [
    "### One-hot encode\n",
    "Just like the previous code cell, you'll be implementing a function for preprocessing.  This time, you'll implement the `one_hot_encode` function. The input, `x`, are a list of labels.  Implement the function to return the list of labels as One-Hot encoded Numpy array.  The possible values for labels are 0 to 9. The one-hot encoding function should return the same encoding for each value between each call to `one_hot_encode`.  Make sure to save the map of encodings outside the function.\n",
    "\n",
    "Hint: Don't reinvent the wheel."
   ]
  },
  {
   "cell_type": "code",
   "execution_count": 48,
   "metadata": {},
   "outputs": [
    {
     "name": "stdout",
     "output_type": "stream",
     "text": [
      "Tests Passed\n"
     ]
    }
   ],
   "source": [
    "def one_hot_encode(x):\n",
    "    \"\"\"\n",
    "    One hot encode a list of sample labels. Return a one-hot encoded vector for each label.\n",
    "    : x: List of sample Labels\n",
    "    : return: Numpy array of one-hot encoded labels\n",
    "    \"\"\"\n",
    "    # TODO: Implement Function\n",
    "    from sklearn import preprocessing\n",
    "    lb = preprocessing.LabelBinarizer()\n",
    "    lb.fit(np.array([0,1,2,3,4,5,6,7,8,9]))\n",
    "    return lb.transform(x)\n",
    "        \n",
    "   \n",
    "\n",
    "\n",
    "\"\"\"\n",
    "DON'T MODIFY ANYTHING IN THIS CELL THAT IS BELOW THIS LINE\n",
    "\"\"\"\n",
    "tests.test_one_hot_encode(one_hot_encode)"
   ]
  },
  {
   "cell_type": "markdown",
   "metadata": {},
   "source": [
    "### Randomize Data\n",
    "As you saw from exploring the data above, the order of the samples are randomized.  It doesn't hurt to randomize it again, but you don't need to for this dataset."
   ]
  },
  {
   "cell_type": "markdown",
   "metadata": {},
   "source": [
    "## Preprocess all the data and save it\n",
    "Running the code cell below will preprocess all the CIFAR-10 data and save it to file. The code below also uses 10% of the training data for validation."
   ]
  },
  {
   "cell_type": "code",
   "execution_count": 49,
   "metadata": {
    "collapsed": true
   },
   "outputs": [],
   "source": [
    "\"\"\"\n",
    "DON'T MODIFY ANYTHING IN THIS CELL\n",
    "\"\"\"\n",
    "# Preprocess Training, Validation, and Testing Data\n",
    "helper.preprocess_and_save_data(cifar10_dataset_folder_path, normalize, one_hot_encode)"
   ]
  },
  {
   "cell_type": "markdown",
   "metadata": {},
   "source": [
    "# Check Point\n",
    "This is your first checkpoint.  If you ever decide to come back to this notebook or have to restart the notebook, you can start from here.  The preprocessed data has been saved to disk."
   ]
  },
  {
   "cell_type": "code",
   "execution_count": 50,
   "metadata": {
    "collapsed": true
   },
   "outputs": [],
   "source": [
    "\"\"\"\n",
    "DON'T MODIFY ANYTHING IN THIS CELL\n",
    "\"\"\"\n",
    "import pickle\n",
    "import problem_unittests as tests\n",
    "import helper\n",
    "\n",
    "# Load the Preprocessed Validation data\n",
    "valid_features, valid_labels = pickle.load(open('preprocess_validation.p', mode='rb'))"
   ]
  },
  {
   "cell_type": "markdown",
   "metadata": {},
   "source": [
    "## Build the network\n",
    "For the neural network, you'll build each layer into a function.  Most of the code you've seen has been outside of functions. To test your code more thoroughly, we require that you put each layer in a function.  This allows us to give you better feedback and test for simple mistakes using our unittests before you submit your project.\n",
    "\n",
    ">**Note:** If you're finding it hard to dedicate enough time for this course each week, we've provided a small shortcut to this part of the project. In the next couple of problems, you'll have the option to use classes from the [TensorFlow Layers](https://www.tensorflow.org/api_docs/python/tf/layers) or [TensorFlow Layers (contrib)](https://www.tensorflow.org/api_guides/python/contrib.layers) packages to build each layer, except the layers you build in the \"Convolutional and Max Pooling Layer\" section.  TF Layers is similar to Keras's and TFLearn's abstraction to layers, so it's easy to pickup.\n",
    "\n",
    ">However, if you would like to get the most out of this course, try to solve all the problems _without_ using anything from the TF Layers packages. You **can** still use classes from other packages that happen to have the same name as ones you find in TF Layers! For example, instead of using the TF Layers version of the `conv2d` class, [tf.layers.conv2d](https://www.tensorflow.org/api_docs/python/tf/layers/conv2d), you would want to use the TF Neural Network version of `conv2d`, [tf.nn.conv2d](https://www.tensorflow.org/api_docs/python/tf/nn/conv2d). \n",
    "\n",
    "Let's begin!\n",
    "\n",
    "### Input\n",
    "The neural network needs to read the image data, one-hot encoded labels, and dropout keep probability. Implement the following functions\n",
    "* Implement `neural_net_image_input`\n",
    " * Return a [TF Placeholder](https://www.tensorflow.org/api_docs/python/tf/placeholder)\n",
    " * Set the shape using `image_shape` with batch size set to `None`.\n",
    " * Name the TensorFlow placeholder \"x\" using the TensorFlow `name` parameter in the [TF Placeholder](https://www.tensorflow.org/api_docs/python/tf/placeholder).\n",
    "* Implement `neural_net_label_input`\n",
    " * Return a [TF Placeholder](https://www.tensorflow.org/api_docs/python/tf/placeholder)\n",
    " * Set the shape using `n_classes` with batch size set to `None`.\n",
    " * Name the TensorFlow placeholder \"y\" using the TensorFlow `name` parameter in the [TF Placeholder](https://www.tensorflow.org/api_docs/python/tf/placeholder).\n",
    "* Implement `neural_net_keep_prob_input`\n",
    " * Return a [TF Placeholder](https://www.tensorflow.org/api_docs/python/tf/placeholder) for dropout keep probability.\n",
    " * Name the TensorFlow placeholder \"keep_prob\" using the TensorFlow `name` parameter in the [TF Placeholder](https://www.tensorflow.org/api_docs/python/tf/placeholder).\n",
    "\n",
    "These names will be used at the end of the project to load your saved model.\n",
    "\n",
    "Note: `None` for shapes in TensorFlow allow for a dynamic size."
   ]
  },
  {
   "cell_type": "code",
   "execution_count": 51,
   "metadata": {},
   "outputs": [
    {
     "name": "stdout",
     "output_type": "stream",
     "text": [
      "Image Input Tests Passed.\n",
      "Label Input Tests Passed.\n",
      "Keep Prob Tests Passed.\n"
     ]
    }
   ],
   "source": [
    "import tensorflow as tf\n",
    "\n",
    "def neural_net_image_input(image_shape):\n",
    "    \"\"\"\n",
    "    Return a Tensor for a batch of image input\n",
    "    : image_shape: Shape of the images\n",
    "    : return: Tensor for image input.\n",
    "    \"\"\"\n",
    "    # TODO: Implement Function\n",
    "    import tensorflow as tf\n",
    "    #return tf.placeholder(tf.float32, shape=tf.shape(image_shape),name='x')\n",
    "    return tf.placeholder(tf.float32, shape=(None, image_shape[0], image_shape[1], image_shape[2]), name='x')\n",
    "\n",
    "\n",
    "def neural_net_label_input(n_classes):\n",
    "    \"\"\"\n",
    "    Return a Tensor for a batch of label input\n",
    "    : n_classes: Number of classes\n",
    "    : return: Tensor for label input.\n",
    "    \"\"\"\n",
    "    # TODO: Implement Function\n",
    "    return tf.placeholder(tf.float32, shape=[None,n_classes],name='y')\n",
    "\n",
    "\n",
    "def neural_net_keep_prob_input():\n",
    "    \"\"\"\n",
    "    Return a Tensor for keep probability\n",
    "    : return: Tensor for keep probability.\n",
    "    \"\"\"\n",
    "    # TODO: Implement Function\n",
    "    return tf.placeholder(tf.float32, name='keep_prob')\n",
    "\n",
    "\n",
    "\"\"\"\n",
    "DON'T MODIFY ANYTHING IN THIS CELL THAT IS BELOW THIS LINE\n",
    "\"\"\"\n",
    "tf.reset_default_graph()\n",
    "tests.test_nn_image_inputs(neural_net_image_input)\n",
    "tests.test_nn_label_inputs(neural_net_label_input)\n",
    "tests.test_nn_keep_prob_inputs(neural_net_keep_prob_input)"
   ]
  },
  {
   "cell_type": "markdown",
   "metadata": {},
   "source": [
    "### Convolution and Max Pooling Layer\n",
    "Convolution layers have a lot of success with images. For this code cell, you should implement the function `conv2d_maxpool` to apply convolution then max pooling:\n",
    "* Create the weight and bias using `conv_ksize`, `conv_num_outputs` and the shape of `x_tensor`.\n",
    "* Apply a convolution to `x_tensor` using weight and `conv_strides`.\n",
    " * We recommend you use same padding, but you're welcome to use any padding.\n",
    "* Add bias\n",
    "* Add a nonlinear activation to the convolution.\n",
    "* Apply Max Pooling using `pool_ksize` and `pool_strides`.\n",
    " * We recommend you use same padding, but you're welcome to use any padding.\n",
    "\n",
    "**Note:** You **can't** use [TensorFlow Layers](https://www.tensorflow.org/api_docs/python/tf/layers) or [TensorFlow Layers (contrib)](https://www.tensorflow.org/api_guides/python/contrib.layers) for **this** layer, but you can still use TensorFlow's [Neural Network](https://www.tensorflow.org/api_docs/python/tf/nn) package. You may still use the shortcut option for all the **other** layers."
   ]
  },
  {
   "cell_type": "code",
   "execution_count": 52,
   "metadata": {},
   "outputs": [
    {
     "name": "stdout",
     "output_type": "stream",
     "text": [
      "Tests Passed\n"
     ]
    }
   ],
   "source": [
    "def conv2d_maxpool(x_tensor, conv_num_outputs, conv_ksize, conv_strides, pool_ksize, pool_strides):\n",
    "    \"\"\"\n",
    "    Apply convolution then max pooling to x_tensor\n",
    "    :param x_tensor: TensorFlow Tensor\n",
    "    :param conv_num_outputs: Number of outputs for the convolutional layer\n",
    "    :param conv_ksize: kernal size 2-D Tuple for the convolutional layer\n",
    "    :param conv_strides: Stride 2-D Tuple for convolution\n",
    "    :param pool_ksize: kernal size 2-D Tuple for pool\n",
    "    :param pool_strides: Stride 2-D Tuple for pool\n",
    "    : return: A tensor that represents convolution and max pooling of x_tensor\n",
    "    \"\"\"\n",
    "    # TODO: Implement Function\n",
    "    import tensorflow as tf\n",
    "    filter_w = tf.Variable(tf.truncated_normal([conv_ksize[0],conv_ksize[1] \\\n",
    "                                               ,x_tensor.shape.as_list()[3],conv_num_outputs],dtype=tf.float32,stddev=0.01))\n",
    "    filter_b = tf.Variable(tf.truncated_normal([conv_num_outputs], dtype=tf.float32,stddev=0.01))\n",
    "    conv = tf.nn.conv2d(x_tensor,filter_w,strides=[1,conv_strides[0],conv_strides[1],1],padding='SAME')\n",
    "    conv = tf.nn.bias_add(conv, filter_b)\n",
    "    conv = tf.nn.relu(conv)\n",
    "    return tf.nn.max_pool(conv, ksize=[1,pool_ksize[0],pool_ksize[1],1], strides=[1,pool_strides[0],pool_strides[1],1], padding='SAME')\n",
    "\n",
    "\n",
    "\"\"\"\n",
    "DON'T MODIFY ANYTHING IN THIS CELL THAT IS BELOW THIS LINE\n",
    "\"\"\"\n",
    "tests.test_con_pool(conv2d_maxpool)"
   ]
  },
  {
   "cell_type": "markdown",
   "metadata": {},
   "source": [
    "### Flatten Layer\n",
    "Implement the `flatten` function to change the dimension of `x_tensor` from a 4-D tensor to a 2-D tensor.  The output should be the shape (*Batch Size*, *Flattened Image Size*). Shortcut option: you can use classes from the [TensorFlow Layers](https://www.tensorflow.org/api_docs/python/tf/layers) or [TensorFlow Layers (contrib)](https://www.tensorflow.org/api_guides/python/contrib.layers) packages for this layer. For more of a challenge, only use other TensorFlow packages."
   ]
  },
  {
   "cell_type": "code",
   "execution_count": 53,
   "metadata": {},
   "outputs": [
    {
     "name": "stdout",
     "output_type": "stream",
     "text": [
      "Tests Passed\n"
     ]
    }
   ],
   "source": [
    "def flatten(x_tensor):\n",
    "    \"\"\"\n",
    "    Flatten x_tensor to (Batch Size, Flattened Image Size)\n",
    "    : x_tensor: A tensor of size (Batch Size, ...), where ... are the image dimensions.\n",
    "    : return: A tensor of size (Batch Size, Flattened Image Size).\n",
    "    \"\"\"\n",
    "    # TODO: Implement Function\n",
    "    #return None\n",
    "    list = x_tensor.get_shape().as_list()\n",
    "    size = list[1] * list[2] * list[3] \n",
    "    #print(tf.contrib.layers.flatten(list))\n",
    "    # TODO: Implement Function\n",
    "    \n",
    "    return tf.reshape(x_tensor,[-1,size])\n",
    "\n",
    "\n",
    "\"\"\"\n",
    "DON'T MODIFY ANYTHING IN THIS CELL THAT IS BELOW THIS LINE\n",
    "\"\"\"\n",
    "tests.test_flatten(flatten)"
   ]
  },
  {
   "cell_type": "markdown",
   "metadata": {},
   "source": [
    "### Fully-Connected Layer\n",
    "Implement the `fully_conn` function to apply a fully connected layer to `x_tensor` with the shape (*Batch Size*, *num_outputs*). Shortcut option: you can use classes from the [TensorFlow Layers](https://www.tensorflow.org/api_docs/python/tf/layers) or [TensorFlow Layers (contrib)](https://www.tensorflow.org/api_guides/python/contrib.layers) packages for this layer. For more of a challenge, only use other TensorFlow packages."
   ]
  },
  {
   "cell_type": "code",
   "execution_count": 54,
   "metadata": {},
   "outputs": [
    {
     "name": "stdout",
     "output_type": "stream",
     "text": [
      "Tests Passed\n"
     ]
    }
   ],
   "source": [
    "def fully_conn(x_tensor, num_outputs):\n",
    "    \"\"\"\n",
    "    Apply a fully connected layer to x_tensor using weight and bias\n",
    "    : x_tensor: A 2-D tensor where the first dimension is batch size.\n",
    "    : num_outputs: The number of output that the new tensor should be.\n",
    "    : return: A 2-D tensor where the second dimension is num_outputs.\n",
    "    \"\"\"\n",
    "    # TODO: Implement Function\n",
    "    import tensorflow as tf\n",
    "    list = x_tensor.get_shape().as_list()\n",
    "    size = list[1] # 0 is none? \n",
    "    w = tf.Variable(tf.truncated_normal([size,num_outputs],dtype=tf.float32,stddev=0.01))\n",
    "    b = tf.Variable(tf.truncated_normal([num_outputs],dtype=tf.float32,stddev=0.01))\n",
    "    fully_connected = tf.add(tf.matmul(x_tensor,w), b)\n",
    "    fully_connected = tf.nn.relu(fully_connected)\n",
    "    return fully_connected\n",
    "\n",
    "\n",
    "\"\"\"\n",
    "DON'T MODIFY ANYTHING IN THIS CELL THAT IS BELOW THIS LINE\n",
    "\"\"\"\n",
    "tests.test_fully_conn(fully_conn)"
   ]
  },
  {
   "cell_type": "markdown",
   "metadata": {},
   "source": [
    "### Output Layer\n",
    "Implement the `output` function to apply a fully connected layer to `x_tensor` with the shape (*Batch Size*, *num_outputs*). Shortcut option: you can use classes from the [TensorFlow Layers](https://www.tensorflow.org/api_docs/python/tf/layers) or [TensorFlow Layers (contrib)](https://www.tensorflow.org/api_guides/python/contrib.layers) packages for this layer. For more of a challenge, only use other TensorFlow packages.\n",
    "\n",
    "**Note:** Activation, softmax, or cross entropy should **not** be applied to this."
   ]
  },
  {
   "cell_type": "code",
   "execution_count": 55,
   "metadata": {},
   "outputs": [
    {
     "name": "stdout",
     "output_type": "stream",
     "text": [
      "Tests Passed\n"
     ]
    }
   ],
   "source": [
    "def output(x_tensor, num_outputs):\n",
    "    \"\"\"\n",
    "    Apply a output layer to x_tensor using weight and bias\n",
    "    : x_tensor: A 2-D tensor where the first dimension is batch size.\n",
    "    : num_outputs: The number of output that the new tensor should be.\n",
    "    : return: A 2-D tensor where the second dimension is num_outputs.\n",
    "    \"\"\"\n",
    "    # TODO: Implement Function\n",
    "    import tensorflow as tf\n",
    "    list = x_tensor.get_shape().as_list()\n",
    "    size = list[1]\n",
    "    w = tf.Variable(tf.truncated_normal([size,num_outputs],dtype=tf.float32,stddev=0.01))\n",
    "    b = tf.Variable(tf.truncated_normal([num_outputs],dtype=tf.float32,stddev=0.01))\n",
    "    output = tf.add(tf.matmul(x_tensor,w),b)\n",
    "    return output\n",
    "\n",
    "\n",
    "\"\"\"\n",
    "DON'T MODIFY ANYTHING IN THIS CELL THAT IS BELOW THIS LINE\n",
    "\"\"\"\n",
    "tests.test_output(output)"
   ]
  },
  {
   "cell_type": "markdown",
   "metadata": {},
   "source": [
    "### Create Convolutional Model\n",
    "Implement the function `conv_net` to create a convolutional neural network model. The function takes in a batch of images, `x`, and outputs logits.  Use the layers you created above to create this model:\n",
    "\n",
    "* Apply 1, 2, or 3 Convolution and Max Pool layers\n",
    "* Apply a Flatten Layer\n",
    "* Apply 1, 2, or 3 Fully Connected Layers\n",
    "* Apply an Output Layer\n",
    "* Return the output\n",
    "* Apply [TensorFlow's Dropout](https://www.tensorflow.org/api_docs/python/tf/nn/dropout) to one or more layers in the model using `keep_prob`. "
   ]
  },
  {
   "cell_type": "code",
   "execution_count": 56,
   "metadata": {},
   "outputs": [
    {
     "name": "stdout",
     "output_type": "stream",
     "text": [
      "Neural Network Built!\n"
     ]
    }
   ],
   "source": [
    "def conv_net(x, keep_prob):\n",
    "    \"\"\"\n",
    "    Create a convolutional neural network model\n",
    "    : x: Placeholder tensor that holds image data.\n",
    "    : keep_prob: Placeholder tensor that hold dropout keep probability.\n",
    "    : return: Tensor that represents logits\n",
    "    \"\"\"\n",
    "    # TODO: Apply 1, 2, or 3 Convolution and Max Pool layers\n",
    "    import tensorflow as tf\n",
    "    x_tensor = x\n",
    "    conv_num_outputs = 64\n",
    "    conv_ksize = (3,3)\n",
    "    conv_strides = (1,1)\n",
    "    pool_ksize = (3,3)\n",
    "    pool_strides = (2,2)\n",
    "    #    Play around with different number of outputs, kernel size and stride\n",
    "    # Function Definition from Above:\n",
    "    x1 = conv2d_maxpool(x, conv_num_outputs, conv_ksize, conv_strides, pool_ksize, pool_strides)\n",
    "    x1 = tf.nn.dropout(x1, keep_prob)\n",
    "    conv_num_outputs = 128\n",
    "    x1 = conv2d_maxpool(x1, conv_num_outputs, conv_ksize, conv_strides, pool_ksize, pool_strides)\n",
    "    x1 = tf.nn.dropout(x1, keep_prob)\n",
    "    #conv_num_outputs = 256\n",
    "    #x1 = conv2d_maxpool(x1, conv_num_outputs, conv_ksize, conv_strides, pool_ksize, pool_strides)\n",
    "    #x1 = tf.nn.dropout(x1, keep_prob)\n",
    "    #print(x1)\n",
    "\n",
    "    # TODO: Apply a Flatten Layer\n",
    "    # Function Definition from Above:\n",
    "    x1 = flatten(x1)\n",
    "    #print(x1)\n",
    "\n",
    "    # TODO: Apply 1, 2, or 3 Fully Connected Layers\n",
    "    #    Play around with different number of outputs\n",
    "    # Function Definition from Above:\n",
    "    #num_outputs = 512\n",
    "    #x1 = fully_conn(x1, num_outputs)\n",
    "    #num_outputs = 256\n",
    "    #x1 = fully_conn(x1, num_outputs)\n",
    "    #num_outputs = 128\n",
    "    #x1 = fully_conn(x1, num_outputs)\n",
    "    #num_outputs = 64\n",
    "    #x1 = fully_conn(x1, num_outputs)\n",
    "    num_outputs = 32\n",
    "    x1 = fully_conn(x1, num_outputs)\n",
    "    num_outputs = 10\n",
    "    \n",
    "    \n",
    "    \n",
    "    \n",
    "    # TODO: Apply an Output Layer\n",
    "    #    Set this to the number of classes\n",
    "    # Function Definition from Above:\n",
    "    out =   output(x1, num_outputs)\n",
    "    # print(out)\n",
    "    \n",
    "    # TODO: return output\n",
    "    return out\n",
    "\n",
    "\n",
    "\"\"\"\n",
    "DON'T MODIFY ANYTHING IN THIS CELL THAT IS BELOW THIS LINE\n",
    "\"\"\"\n",
    "\n",
    "##############################\n",
    "## Build the Neural Network ##\n",
    "##############################\n",
    "\n",
    "# Remove previous weights, bias, inputs, etc..\n",
    "tf.reset_default_graph()\n",
    "\n",
    "# Inputs\n",
    "x = neural_net_image_input((32, 32, 3))\n",
    "y = neural_net_label_input(10)\n",
    "keep_prob = neural_net_keep_prob_input()\n",
    "\n",
    "# Model\n",
    "logits = conv_net(x, keep_prob)\n",
    "\n",
    "# Name logits Tensor, so that is can be loaded from disk after training\n",
    "logits = tf.identity(logits, name='logits')\n",
    "\n",
    "# Loss and Optimizer\n",
    "cost = tf.reduce_mean(tf.nn.softmax_cross_entropy_with_logits(logits=logits, labels=y))\n",
    "optimizer = tf.train.AdamOptimizer().minimize(cost)\n",
    "\n",
    "# Accuracy\n",
    "correct_pred = tf.equal(tf.argmax(logits, 1), tf.argmax(y, 1))\n",
    "accuracy = tf.reduce_mean(tf.cast(correct_pred, tf.float32), name='accuracy')\n",
    "\n",
    "tests.test_conv_net(conv_net)"
   ]
  },
  {
   "cell_type": "markdown",
   "metadata": {},
   "source": [
    "## Train the Neural Network\n",
    "### Single Optimization\n",
    "Implement the function `train_neural_network` to do a single optimization.  The optimization should use `optimizer` to optimize in `session` with a `feed_dict` of the following:\n",
    "* `x` for image input\n",
    "* `y` for labels\n",
    "* `keep_prob` for keep probability for dropout\n",
    "\n",
    "This function will be called for each batch, so `tf.global_variables_initializer()` has already been called.\n",
    "\n",
    "Note: Nothing needs to be returned. This function is only optimizing the neural network."
   ]
  },
  {
   "cell_type": "code",
   "execution_count": 57,
   "metadata": {},
   "outputs": [
    {
     "name": "stdout",
     "output_type": "stream",
     "text": [
      "Tests Passed\n"
     ]
    }
   ],
   "source": [
    "def train_neural_network(session, optimizer, keep_probability, feature_batch, label_batch):\n",
    "    \"\"\"\n",
    "    Optimize the session on a batch of images and labels\n",
    "    : session: Current TensorFlow session\n",
    "    : optimizer: TensorFlow optimizer function\n",
    "    : keep_probability: keep probability\n",
    "    : feature_batch: Batch of Numpy image data\n",
    "    : label_batch: Batch of Numpy label data\n",
    "    \"\"\"\n",
    "    # TODO: Implement Function\n",
    "    #session.run(optimizer,feed_dict={x:feature_batch,y:label_batch, keep_probability:keep probability})\n",
    "    session.run(optimizer, feed_dict={x: feature_batch, y: label_batch, keep_prob: keep_probability})\n",
    "\n",
    "\"\"\"\n",
    "DON'T MODIFY ANYTHING IN THIS CELL THAT IS BELOW THIS LINE\n",
    "\"\"\"\n",
    "tests.test_train_nn(train_neural_network)"
   ]
  },
  {
   "cell_type": "markdown",
   "metadata": {},
   "source": [
    "### Show Stats\n",
    "Implement the function `print_stats` to print loss and validation accuracy.  Use the global variables `valid_features` and `valid_labels` to calculate validation accuracy.  Use a keep probability of `1.0` to calculate the loss and validation accuracy."
   ]
  },
  {
   "cell_type": "code",
   "execution_count": 58,
   "metadata": {
    "collapsed": true
   },
   "outputs": [],
   "source": [
    "def print_stats(session, feature_batch, label_batch, cost, accuracy):\n",
    "    \"\"\"\n",
    "    Print information about loss and validation accuracy\n",
    "    : session: Current TensorFlow session\n",
    "    : feature_batch: Batch of Numpy image data\n",
    "    : label_batch: Batch of Numpy label data\n",
    "    : cost: TensorFlow cost function\n",
    "    : accuracy: TensorFlow accuracy function\n",
    "    \"\"\"\n",
    "    # TODO: Implement Function\n",
    "    loss = sess.run(cost, feed_dict={x: feature_batch,y: label_batch,keep_prob: 1.} )\n",
    "    valid_acc = sess.run(accuracy, feed_dict={x: valid_features,y: valid_labels,keep_prob: 1.})\n",
    "    print(\"Loss:\",loss)\n",
    "    print(\"Accuracy:\", valid_acc)"
   ]
  },
  {
   "cell_type": "markdown",
   "metadata": {},
   "source": [
    "### Hyperparameters\n",
    "Tune the following parameters:\n",
    "* Set `epochs` to the number of iterations until the network stops learning or start overfitting\n",
    "* Set `batch_size` to the highest number that your machine has memory for.  Most people set them to common sizes of memory:\n",
    " * 64\n",
    " * 128\n",
    " * 256\n",
    " * ...\n",
    "* Set `keep_probability` to the probability of keeping a node using dropout"
   ]
  },
  {
   "cell_type": "code",
   "execution_count": null,
   "metadata": {
    "collapsed": true
   },
   "outputs": [],
   "source": [
    "# TODO: Tune Parameters\n",
    "epochs = 25\n",
    "batch_size = 64\n",
    "keep_probability = 0.75"
   ]
  },
  {
   "cell_type": "markdown",
   "metadata": {},
   "source": [
    "### Train on a Single CIFAR-10 Batch\n",
    "Instead of training the neural network on all the CIFAR-10 batches of data, let's use a single batch. This should save time while you iterate on the model to get a better accuracy.  Once the final validation accuracy is 50% or greater, run the model on all the data in the next section."
   ]
  },
  {
   "cell_type": "code",
   "execution_count": 66,
   "metadata": {},
   "outputs": [
    {
     "name": "stdout",
     "output_type": "stream",
     "text": [
      "Checking the Training on a Single Batch...\n",
      "Epoch  1, CIFAR-10 Batch 1:  Loss: 2.20253\n",
      "Accuracy: 0.2288\n",
      "Epoch  2, CIFAR-10 Batch 1:  Loss: 2.21294\n",
      "Accuracy: 0.244\n",
      "Epoch  3, CIFAR-10 Batch 1:  Loss: 2.12847\n",
      "Accuracy: 0.2718\n",
      "Epoch  4, CIFAR-10 Batch 1:  Loss: 2.11049\n",
      "Accuracy: 0.2974\n",
      "Epoch  5, CIFAR-10 Batch 1:  Loss: 1.95274\n",
      "Accuracy: 0.35\n",
      "Epoch  6, CIFAR-10 Batch 1:  Loss: 1.87996\n",
      "Accuracy: 0.3882\n",
      "Epoch  7, CIFAR-10 Batch 1:  Loss: 1.77952\n",
      "Accuracy: 0.4112\n",
      "Epoch  8, CIFAR-10 Batch 1:  Loss: 1.73667\n",
      "Accuracy: 0.4362\n",
      "Epoch  9, CIFAR-10 Batch 1:  Loss: 1.71632\n",
      "Accuracy: 0.4466\n",
      "Epoch 10, CIFAR-10 Batch 1:  Loss: 1.66514\n",
      "Accuracy: 0.463\n",
      "Epoch 11, CIFAR-10 Batch 1:  Loss: 1.58615\n",
      "Accuracy: 0.4738\n",
      "Epoch 12, CIFAR-10 Batch 1:  Loss: 1.53141\n",
      "Accuracy: 0.477\n",
      "Epoch 13, CIFAR-10 Batch 1:  Loss: 1.52311\n",
      "Accuracy: 0.4932\n",
      "Epoch 14, CIFAR-10 Batch 1:  Loss: 1.47848\n",
      "Accuracy: 0.4942\n",
      "Epoch 15, CIFAR-10 Batch 1:  Loss: 1.47375\n",
      "Accuracy: 0.5\n",
      "Epoch 16, CIFAR-10 Batch 1:  Loss: 1.44583\n",
      "Accuracy: 0.5\n",
      "Epoch 17, CIFAR-10 Batch 1:  Loss: 1.37111\n",
      "Accuracy: 0.507\n",
      "Epoch 18, CIFAR-10 Batch 1:  Loss: 1.31526\n",
      "Accuracy: 0.5288\n",
      "Epoch 19, CIFAR-10 Batch 1:  Loss: 1.33641\n",
      "Accuracy: 0.5254\n",
      "Epoch 20, CIFAR-10 Batch 1:  Loss: 1.27011\n",
      "Accuracy: 0.5354\n",
      "Epoch 21, CIFAR-10 Batch 1:  Loss: 1.23599\n",
      "Accuracy: 0.5382\n",
      "Epoch 22, CIFAR-10 Batch 1:  Loss: 1.24633\n",
      "Accuracy: 0.5444\n",
      "Epoch 23, CIFAR-10 Batch 1:  Loss: 1.20657\n",
      "Accuracy: 0.5446\n",
      "Epoch 24, CIFAR-10 Batch 1:  Loss: 1.19528\n",
      "Accuracy: 0.5492\n",
      "Epoch 25, CIFAR-10 Batch 1:  Loss: 1.16957\n",
      "Accuracy: 0.554\n"
     ]
    }
   ],
   "source": [
    "\"\"\"\n",
    "DON'T MODIFY ANYTHING IN THIS CELL\n",
    "\"\"\"\n",
    "print('Checking the Training on a Single Batch...')\n",
    "with tf.Session() as sess:\n",
    "    # Initializing the variables\n",
    "    sess.run(tf.global_variables_initializer())\n",
    "    \n",
    "    # Training cycle\n",
    "    for epoch in range(epochs):\n",
    "        batch_i = 1\n",
    "        for batch_features, batch_labels in helper.load_preprocess_training_batch(batch_i, batch_size):\n",
    "            train_neural_network(sess, optimizer, keep_probability, batch_features, batch_labels)\n",
    "        print('Epoch {:>2}, CIFAR-10 Batch {}:  '.format(epoch + 1, batch_i), end='')\n",
    "        print_stats(sess, batch_features, batch_labels, cost, accuracy)"
   ]
  },
  {
   "cell_type": "markdown",
   "metadata": {},
   "source": [
    "### Fully Train the Model\n",
    "Now that you got a good accuracy with a single CIFAR-10 batch, try it with all five batches."
   ]
  },
  {
   "cell_type": "code",
   "execution_count": 67,
   "metadata": {},
   "outputs": [
    {
     "name": "stdout",
     "output_type": "stream",
     "text": [
      "Training...\n",
      "Epoch  1, CIFAR-10 Batch 1:  Loss: 2.25352\n",
      "Accuracy: 0.2364\n",
      "Epoch  1, CIFAR-10 Batch 2:  Loss: 2.05623\n",
      "Accuracy: 0.2744\n",
      "Epoch  1, CIFAR-10 Batch 3:  Loss: 1.75648\n",
      "Accuracy: 0.3096\n",
      "Epoch  1, CIFAR-10 Batch 4:  Loss: 1.68181\n",
      "Accuracy: 0.3532\n",
      "Epoch  1, CIFAR-10 Batch 5:  Loss: 1.77355\n",
      "Accuracy: 0.4032\n",
      "Epoch  2, CIFAR-10 Batch 1:  Loss: 1.85429\n",
      "Accuracy: 0.4054\n",
      "Epoch  2, CIFAR-10 Batch 2:  Loss: 1.71275\n",
      "Accuracy: 0.4328\n",
      "Epoch  2, CIFAR-10 Batch 3:  Loss: 1.32619\n",
      "Accuracy: 0.4444\n",
      "Epoch  2, CIFAR-10 Batch 4:  Loss: 1.46004\n",
      "Accuracy: 0.465\n",
      "Epoch  2, CIFAR-10 Batch 5:  Loss: 1.65956\n",
      "Accuracy: 0.4874\n",
      "Epoch  3, CIFAR-10 Batch 1:  Loss: 1.71749\n",
      "Accuracy: 0.4818\n",
      "Epoch  3, CIFAR-10 Batch 2:  Loss: 1.52641\n",
      "Accuracy: 0.4942\n",
      "Epoch  3, CIFAR-10 Batch 3:  Loss: 1.16939\n",
      "Accuracy: 0.4932\n",
      "Epoch  3, CIFAR-10 Batch 4:  Loss: 1.37971\n",
      "Accuracy: 0.5138\n",
      "Epoch  3, CIFAR-10 Batch 5:  Loss: 1.53112\n",
      "Accuracy: 0.5284\n",
      "Epoch  4, CIFAR-10 Batch 1:  Loss: 1.60208\n",
      "Accuracy: 0.5124\n",
      "Epoch  4, CIFAR-10 Batch 2:  Loss: 1.34966\n",
      "Accuracy: 0.52\n",
      "Epoch  4, CIFAR-10 Batch 3:  Loss: 1.05776\n",
      "Accuracy: 0.5312\n",
      "Epoch  4, CIFAR-10 Batch 4:  Loss: 1.2627\n",
      "Accuracy: 0.5424\n",
      "Epoch  4, CIFAR-10 Batch 5:  Loss: 1.43\n",
      "Accuracy: 0.5368\n",
      "Epoch  5, CIFAR-10 Batch 1:  Loss: 1.48158\n",
      "Accuracy: 0.5406\n",
      "Epoch  5, CIFAR-10 Batch 2:  Loss: 1.24634\n",
      "Accuracy: 0.555\n",
      "Epoch  5, CIFAR-10 Batch 3:  Loss: 1.02109\n",
      "Accuracy: 0.556\n",
      "Epoch  5, CIFAR-10 Batch 4:  Loss: 1.18949\n",
      "Accuracy: 0.5616\n",
      "Epoch  5, CIFAR-10 Batch 5:  Loss: 1.30754\n",
      "Accuracy: 0.5588\n",
      "Epoch  6, CIFAR-10 Batch 1:  Loss: 1.43267\n",
      "Accuracy: 0.5654\n",
      "Epoch  6, CIFAR-10 Batch 2:  Loss: 1.15352\n",
      "Accuracy: 0.5556\n",
      "Epoch  6, CIFAR-10 Batch 3:  Loss: 0.974184\n",
      "Accuracy: 0.5732\n",
      "Epoch  6, CIFAR-10 Batch 4:  Loss: 1.11792\n",
      "Accuracy: 0.5762\n",
      "Epoch  6, CIFAR-10 Batch 5:  Loss: 1.23716\n",
      "Accuracy: 0.5786\n",
      "Epoch  7, CIFAR-10 Batch 1:  Loss: 1.33256\n",
      "Accuracy: 0.5804\n",
      "Epoch  7, CIFAR-10 Batch 2:  Loss: 1.07917\n",
      "Accuracy: 0.5852\n",
      "Epoch  7, CIFAR-10 Batch 3:  Loss: 0.937886\n",
      "Accuracy: 0.5874\n",
      "Epoch  7, CIFAR-10 Batch 4:  Loss: 1.09578\n",
      "Accuracy: 0.5866\n",
      "Epoch  7, CIFAR-10 Batch 5:  Loss: 1.1596\n",
      "Accuracy: 0.5954\n",
      "Epoch  8, CIFAR-10 Batch 1:  Loss: 1.30788\n",
      "Accuracy: 0.5964\n",
      "Epoch  8, CIFAR-10 Batch 2:  Loss: 1.06664\n",
      "Accuracy: 0.5854\n",
      "Epoch  8, CIFAR-10 Batch 3:  Loss: 0.899098\n",
      "Accuracy: 0.592\n",
      "Epoch  8, CIFAR-10 Batch 4:  Loss: 1.06095\n",
      "Accuracy: 0.5942\n",
      "Epoch  8, CIFAR-10 Batch 5:  Loss: 1.11579\n",
      "Accuracy: 0.5982\n",
      "Epoch  9, CIFAR-10 Batch 1:  Loss: 1.30234\n",
      "Accuracy: 0.6084\n",
      "Epoch  9, CIFAR-10 Batch 2:  Loss: 1.03641\n",
      "Accuracy: 0.5944\n",
      "Epoch  9, CIFAR-10 Batch 3:  Loss: 0.886046\n",
      "Accuracy: 0.6028\n",
      "Epoch  9, CIFAR-10 Batch 4:  Loss: 1.00219\n",
      "Accuracy: 0.6106\n",
      "Epoch  9, CIFAR-10 Batch 5:  Loss: 1.06994\n",
      "Accuracy: 0.6104\n",
      "Epoch 10, CIFAR-10 Batch 1:  Loss: 1.24615\n",
      "Accuracy: 0.6158\n",
      "Epoch 10, CIFAR-10 Batch 2:  Loss: 1.00391\n",
      "Accuracy: 0.6104\n",
      "Epoch 10, CIFAR-10 Batch 3:  Loss: 0.868251\n",
      "Accuracy: 0.6154\n",
      "Epoch 10, CIFAR-10 Batch 4:  Loss: 0.993099\n",
      "Accuracy: 0.6172\n",
      "Epoch 10, CIFAR-10 Batch 5:  Loss: 1.03804\n",
      "Accuracy: 0.6184\n",
      "Epoch 11, CIFAR-10 Batch 1:  Loss: 1.19334\n",
      "Accuracy: 0.6172\n",
      "Epoch 11, CIFAR-10 Batch 2:  Loss: 1.02402\n",
      "Accuracy: 0.6202\n",
      "Epoch 11, CIFAR-10 Batch 3:  Loss: 0.836658\n",
      "Accuracy: 0.6232\n",
      "Epoch 11, CIFAR-10 Batch 4:  Loss: 0.963092\n",
      "Accuracy: 0.6236\n",
      "Epoch 11, CIFAR-10 Batch 5:  Loss: 1.03713\n",
      "Accuracy: 0.6176\n",
      "Epoch 12, CIFAR-10 Batch 1:  Loss: 1.19777\n",
      "Accuracy: 0.6286\n",
      "Epoch 12, CIFAR-10 Batch 2:  Loss: 1.01676\n",
      "Accuracy: 0.6312\n",
      "Epoch 12, CIFAR-10 Batch 3:  Loss: 0.817307\n",
      "Accuracy: 0.6222\n",
      "Epoch 12, CIFAR-10 Batch 4:  Loss: 1.01725\n",
      "Accuracy: 0.6178\n",
      "Epoch 12, CIFAR-10 Batch 5:  Loss: 1.00975\n",
      "Accuracy: 0.6242\n",
      "Epoch 13, CIFAR-10 Batch 1:  Loss: 1.15865\n",
      "Accuracy: 0.6334\n",
      "Epoch 13, CIFAR-10 Batch 2:  Loss: 0.989406\n",
      "Accuracy: 0.628\n",
      "Epoch 13, CIFAR-10 Batch 3:  Loss: 0.823376\n",
      "Accuracy: 0.635\n",
      "Epoch 13, CIFAR-10 Batch 4:  Loss: 0.965937\n",
      "Accuracy: 0.6394\n",
      "Epoch 13, CIFAR-10 Batch 5:  Loss: 1.0374\n",
      "Accuracy: 0.6196\n",
      "Epoch 14, CIFAR-10 Batch 1:  Loss: 1.17012\n",
      "Accuracy: 0.6382\n",
      "Epoch 14, CIFAR-10 Batch 2:  Loss: 0.968888\n",
      "Accuracy: 0.6258\n",
      "Epoch 14, CIFAR-10 Batch 3:  Loss: 0.809745\n",
      "Accuracy: 0.6378\n",
      "Epoch 14, CIFAR-10 Batch 4:  Loss: 0.939911\n",
      "Accuracy: 0.6468\n",
      "Epoch 14, CIFAR-10 Batch 5:  Loss: 0.992099\n",
      "Accuracy: 0.6362\n",
      "Epoch 15, CIFAR-10 Batch 1:  Loss: 1.10906\n",
      "Accuracy: 0.6454\n",
      "Epoch 15, CIFAR-10 Batch 2:  Loss: 0.957328\n",
      "Accuracy: 0.6388\n",
      "Epoch 15, CIFAR-10 Batch 3:  Loss: 0.777238\n",
      "Accuracy: 0.637\n",
      "Epoch 15, CIFAR-10 Batch 4:  Loss: 0.911456\n",
      "Accuracy: 0.654\n",
      "Epoch 15, CIFAR-10 Batch 5:  Loss: 1.01355\n",
      "Accuracy: 0.6438\n",
      "Epoch 16, CIFAR-10 Batch 1:  Loss: 1.12172\n",
      "Accuracy: 0.6462\n",
      "Epoch 16, CIFAR-10 Batch 2:  Loss: 0.957374\n",
      "Accuracy: 0.651\n",
      "Epoch 16, CIFAR-10 Batch 3:  Loss: 0.781916\n",
      "Accuracy: 0.646\n",
      "Epoch 16, CIFAR-10 Batch 4:  Loss: 0.899471\n",
      "Accuracy: 0.6578\n",
      "Epoch 16, CIFAR-10 Batch 5:  Loss: 0.954045\n",
      "Accuracy: 0.6382\n",
      "Epoch 17, CIFAR-10 Batch 1:  Loss: 0.977482\n",
      "Accuracy: 0.6538\n",
      "Epoch 17, CIFAR-10 Batch 2:  Loss: 0.860569\n",
      "Accuracy: 0.6606\n",
      "Epoch 17, CIFAR-10 Batch 3:  Loss: 0.785308\n",
      "Accuracy: 0.6478\n",
      "Epoch 17, CIFAR-10 Batch 4:  Loss: 0.911318\n",
      "Accuracy: 0.6612\n",
      "Epoch 17, CIFAR-10 Batch 5:  Loss: 0.908919\n",
      "Accuracy: 0.653\n",
      "Epoch 18, CIFAR-10 Batch 1:  Loss: 1.01639\n",
      "Accuracy: 0.6574\n",
      "Epoch 18, CIFAR-10 Batch 2:  Loss: 0.87366\n",
      "Accuracy: 0.657\n",
      "Epoch 18, CIFAR-10 Batch 3:  Loss: 0.763313\n",
      "Accuracy: 0.6476\n",
      "Epoch 18, CIFAR-10 Batch 4:  Loss: 0.865893\n",
      "Accuracy: 0.6594\n",
      "Epoch 18, CIFAR-10 Batch 5:  Loss: 0.903942\n",
      "Accuracy: 0.658\n",
      "Epoch 19, CIFAR-10 Batch 1:  Loss: 1.03449\n",
      "Accuracy: 0.6624\n",
      "Epoch 19, CIFAR-10 Batch 2:  Loss: 0.859688\n",
      "Accuracy: 0.6526\n",
      "Epoch 19, CIFAR-10 Batch 3:  Loss: 0.75492\n",
      "Accuracy: 0.6574\n",
      "Epoch 19, CIFAR-10 Batch 4:  Loss: 0.876394\n",
      "Accuracy: 0.671\n",
      "Epoch 19, CIFAR-10 Batch 5:  Loss: 0.87368\n",
      "Accuracy: 0.664\n",
      "Epoch 20, CIFAR-10 Batch 1:  Loss: 0.999309\n",
      "Accuracy: 0.6658\n",
      "Epoch 20, CIFAR-10 Batch 2:  Loss: 0.819317\n",
      "Accuracy: 0.6746\n",
      "Epoch 20, CIFAR-10 Batch 3:  Loss: 0.697198\n",
      "Accuracy: 0.6654\n",
      "Epoch 20, CIFAR-10 Batch 4:  Loss: 0.91866\n",
      "Accuracy: 0.6688\n",
      "Epoch 20, CIFAR-10 Batch 5:  Loss: 0.90449\n",
      "Accuracy: 0.6574\n",
      "Epoch 21, CIFAR-10 Batch 1:  Loss: 0.948219\n",
      "Accuracy: 0.6694\n",
      "Epoch 21, CIFAR-10 Batch 2:  Loss: 0.811988\n",
      "Accuracy: 0.6638\n",
      "Epoch 21, CIFAR-10 Batch 3:  Loss: 0.720572\n",
      "Accuracy: 0.6632\n",
      "Epoch 21, CIFAR-10 Batch 4:  Loss: 0.873274\n",
      "Accuracy: 0.6744\n",
      "Epoch 21, CIFAR-10 Batch 5:  Loss: 0.908537\n",
      "Accuracy: 0.6594\n",
      "Epoch 22, CIFAR-10 Batch 1:  Loss: 0.941029\n",
      "Accuracy: 0.6678\n",
      "Epoch 22, CIFAR-10 Batch 2:  Loss: 0.84306\n",
      "Accuracy: 0.6712\n",
      "Epoch 22, CIFAR-10 Batch 3:  Loss: 0.757418\n",
      "Accuracy: 0.6572\n",
      "Epoch 22, CIFAR-10 Batch 4:  Loss: 0.842829\n",
      "Accuracy: 0.678\n",
      "Epoch 22, CIFAR-10 Batch 5:  Loss: 0.844185\n",
      "Accuracy: 0.6772\n",
      "Epoch 23, CIFAR-10 Batch 1:  Loss: 0.94934\n",
      "Accuracy: 0.6738\n",
      "Epoch 23, CIFAR-10 Batch 2:  Loss: 0.809122\n",
      "Accuracy: 0.668\n",
      "Epoch 23, CIFAR-10 Batch 3:  Loss: 0.704942\n",
      "Accuracy: 0.6736\n",
      "Epoch 23, CIFAR-10 Batch 4:  Loss: 0.828852\n",
      "Accuracy: 0.684\n",
      "Epoch 23, CIFAR-10 Batch 5:  Loss: 0.825889\n",
      "Accuracy: 0.6806\n",
      "Epoch 24, CIFAR-10 Batch 1:  Loss: 0.917654\n",
      "Accuracy: 0.6806\n",
      "Epoch 24, CIFAR-10 Batch 2:  Loss: 0.783387\n",
      "Accuracy: 0.676\n",
      "Epoch 24, CIFAR-10 Batch 3:  Loss: 0.729429\n",
      "Accuracy: 0.669\n",
      "Epoch 24, CIFAR-10 Batch 4:  Loss: 0.860114\n",
      "Accuracy: 0.6902\n",
      "Epoch 24, CIFAR-10 Batch 5:  Loss: 0.829854\n",
      "Accuracy: 0.679\n",
      "Epoch 25, CIFAR-10 Batch 1:  Loss: 0.899404\n",
      "Accuracy: 0.6874\n",
      "Epoch 25, CIFAR-10 Batch 2:  Loss: 0.804727\n",
      "Accuracy: 0.6782\n",
      "Epoch 25, CIFAR-10 Batch 3:  Loss: 0.694827\n",
      "Accuracy: 0.6844\n",
      "Epoch 25, CIFAR-10 Batch 4:  Loss: 0.843344\n",
      "Accuracy: 0.6872\n",
      "Epoch 25, CIFAR-10 Batch 5:  Loss: 0.802935\n",
      "Accuracy: 0.6818\n"
     ]
    }
   ],
   "source": [
    "\"\"\"\n",
    "DON'T MODIFY ANYTHING IN THIS CELL\n",
    "\"\"\"\n",
    "save_model_path = './image_classification'\n",
    "\n",
    "print('Training...')\n",
    "with tf.Session() as sess:\n",
    "    # Initializing the variables\n",
    "    sess.run(tf.global_variables_initializer())\n",
    "    \n",
    "    # Training cycle\n",
    "    for epoch in range(epochs):\n",
    "        # Loop over all batches\n",
    "        n_batches = 5\n",
    "        for batch_i in range(1, n_batches + 1):\n",
    "            for batch_features, batch_labels in helper.load_preprocess_training_batch(batch_i, batch_size):\n",
    "                train_neural_network(sess, optimizer, keep_probability, batch_features, batch_labels)\n",
    "            print('Epoch {:>2}, CIFAR-10 Batch {}:  '.format(epoch + 1, batch_i), end='')\n",
    "            print_stats(sess, batch_features, batch_labels, cost, accuracy)\n",
    "            \n",
    "    # Save Model\n",
    "    saver = tf.train.Saver()\n",
    "    save_path = saver.save(sess, save_model_path)"
   ]
  },
  {
   "cell_type": "markdown",
   "metadata": {},
   "source": [
    "# Checkpoint\n",
    "The model has been saved to disk.\n",
    "## Test Model\n",
    "Test your model against the test dataset.  This will be your final accuracy. You should have an accuracy greater than 50%. If you don't, keep tweaking the model architecture and parameters."
   ]
  },
  {
   "cell_type": "code",
   "execution_count": 69,
   "metadata": {},
   "outputs": [
    {
     "name": "stdout",
     "output_type": "stream",
     "text": [
      "Testing Accuracy: 0.6771496815286624\n",
      "\n"
     ]
    },
    {
     "data": {
      "image/png": "[encoded data removed]",
      "text/plain": [
       "<matplotlib.figure.Figure at 0x237b5dc9278>"
      ]
     },
     "metadata": {
      "image/png": {
       "height": 319,
       "width": 355
      }
     },
     "output_type": "display_data"
    }
   ],
   "source": [
    "\"\"\"\n",
    "DON'T MODIFY ANYTHING IN THIS CELL\n",
    "\"\"\"\n",
    "%matplotlib inline\n",
    "%config InlineBackend.figure_format = 'retina'\n",
    "\n",
    "import tensorflow as tf\n",
    "import pickle\n",
    "import helper\n",
    "import random\n",
    "\n",
    "# Set batch size if not already set\n",
    "try:\n",
    "    if batch_size:\n",
    "        pass\n",
    "except NameError:\n",
    "    batch_size = 64\n",
    "\n",
    "save_model_path = './image_classification'\n",
    "n_samples = 4\n",
    "top_n_predictions = 3\n",
    "\n",
    "def test_model():\n",
    "    \"\"\"\n",
    "    Test the saved model against the test dataset\n",
    "    \"\"\"\n",
    "\n",
    "    test_features, test_labels = pickle.load(open('preprocess_training.p', mode='rb'))\n",
    "    loaded_graph = tf.Graph()\n",
    "\n",
    "    with tf.Session(graph=loaded_graph) as sess:\n",
    "        # Load model\n",
    "        loader = tf.train.import_meta_graph(save_model_path + '.meta')\n",
    "        loader.restore(sess, save_model_path)\n",
    "\n",
    "        # Get Tensors from loaded model\n",
    "        loaded_x = loaded_graph.get_tensor_by_name('x:0')\n",
    "        loaded_y = loaded_graph.get_tensor_by_name('y:0')\n",
    "        loaded_keep_prob = loaded_graph.get_tensor_by_name('keep_prob:0')\n",
    "        loaded_logits = loaded_graph.get_tensor_by_name('logits:0')\n",
    "        loaded_acc = loaded_graph.get_tensor_by_name('accuracy:0')\n",
    "        \n",
    "        # Get accuracy in batches for memory limitations\n",
    "        test_batch_acc_total = 0\n",
    "        test_batch_count = 0\n",
    "        \n",
    "        for train_feature_batch, train_label_batch in helper.batch_features_labels(test_features, test_labels, batch_size):\n",
    "            test_batch_acc_total += sess.run(\n",
    "                loaded_acc,\n",
    "                feed_dict={loaded_x: train_feature_batch, loaded_y: train_label_batch, loaded_keep_prob: 1.0})\n",
    "            test_batch_count += 1\n",
    "\n",
    "        print('Testing Accuracy: {}\\n'.format(test_batch_acc_total/test_batch_count))\n",
    "\n",
    "        # Print Random Samples\n",
    "        random_test_features, random_test_labels = tuple(zip(*random.sample(list(zip(test_features, test_labels)), n_samples)))\n",
    "        random_test_predictions = sess.run(\n",
    "            tf.nn.top_k(tf.nn.softmax(loaded_logits), top_n_predictions),\n",
    "            feed_dict={loaded_x: random_test_features, loaded_y: random_test_labels, loaded_keep_prob: 1.0})\n",
    "        helper.display_image_predictions(random_test_features, random_test_labels, random_test_predictions)\n",
    "\n",
    "\n",
    "test_model()"
   ]
  },
  {
   "cell_type": "markdown",
   "metadata": {},
   "source": [
    "## Why 50-80% Accuracy?\n",
    "You might be wondering why you can't get an accuracy any higher. First things first, 50% isn't bad for a simple CNN.  Pure guessing would get you 10% accuracy. However, you might notice people are getting scores [well above 80%](http://rodrigob.github.io/are_we_there_yet/build/classification_datasets_results.html#43494641522d3130).  That's because we haven't taught you all there is to know about neural networks. We still need to cover a few more techniques.\n",
    "## Submitting This Project\n",
    "When submitting this project, make sure to run all the cells before saving the notebook.  Save the notebook file as \"dlnd_image_classification.ipynb\" and save it as a HTML file under \"File\" -> \"Download as\".  Include the \"helper.py\" and \"problem_unittests.py\" files in your submission."
   ]
  },
  {
   "cell_type": "markdown",
   "metadata": {},
   "source": [
    "Note: I could have got a bit better result by adding a couple of more conv layer and more fully connected layer but I kept the model simple as my computer was going dead on more complex network. I still think that we can get upto 80% simply adding a few layers only."
   ]
  }
 ],
 "metadata": {
  "kernelspec": {
   "display_name": "Python 3",
   "language": "python",
   "name": "python3"
  }
 },
 "nbformat": 4,
 "nbformat_minor": 1
}
